{
 "cells": [
  {
   "cell_type": "markdown",
   "id": "3d201153-e1d3-42c6-9161-2328901806c8",
   "metadata": {},
   "source": [
    "<details><summary>explainer</summary>\n",
    "\n",
    "alsdkf asdf\n",
    "sadfasdf"
   ]
  },
  {
   "cell_type": "code",
   "execution_count": 3,
   "id": "b84355e3-8a34-46f2-8db2-415164cfaa33",
   "metadata": {},
   "outputs": [
    {
     "data": {
      "text/html": [
       "<link rel=\"stylesheet\" href=\"styles.css\">\n"
      ],
      "text/plain": [
       "<IPython.core.display.HTML object>"
      ]
     },
     "metadata": {},
     "output_type": "display_data"
    }
   ],
   "source": [
    "%%html\n",
    "<link rel=\"stylesheet\" href=\"styles.css\">"
   ]
  },
  {
   "cell_type": "code",
   "execution_count": null,
   "id": "bc722189-5f3c-4d89-a571-f72d7cfcd088",
   "metadata": {},
   "outputs": [],
   "source": []
  }
 ],
 "metadata": {
  "kernelspec": {
   "display_name": "Python 3 (ipykernel)",
   "language": "python",
   "name": "python3"
  },
  "language_info": {
   "codemirror_mode": {
    "name": "ipython",
    "version": 3
   },
   "file_extension": ".py",
   "mimetype": "text/x-python",
   "name": "python",
   "nbconvert_exporter": "python",
   "pygments_lexer": "ipython3",
   "version": "3.12.0"
  }
 },
 "nbformat": 4,
 "nbformat_minor": 5
}
